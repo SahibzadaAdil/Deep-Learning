{
 "cells": [
  {
   "cell_type": "code",
   "execution_count": 1,
   "metadata": {},
   "outputs": [
    {
     "name": "stdout",
     "output_type": "stream",
     "text": [
      "The inputs is: [0.50607711 0.99574429 0.39922634]\n",
      "The outputs is: [0.7821575  0.80412357]\n"
     ]
    }
   ],
   "source": [
    "import numpy as np\n",
    "\n",
    "class Multi_Layer_Perceptron:\n",
    "    def __init__(self, num_inputs=3, num_hidden=[3,5], num_outputs=2):\n",
    "        self.num_inputs= num_inputs\n",
    "        self.num_hidden= num_hidden\n",
    "        self.num_outputs= num_outputs\n",
    "        #layers=input+hidden+output(1+2+1)  layers with # of neuron=[3,3,5,2]\n",
    "        #total number of layers list=4\n",
    "        layers= [self.num_inputs]+ self.num_hidden +[self.num_outputs]\n",
    "        \n",
    "        \n",
    "        #Random weights initialization\n",
    "        self.weights= []\n",
    "        for i in range(len(layers)-1):\n",
    "            w = np.random.rand(layers[i], layers[i+1]) \n",
    "            self.weights.append(w)\n",
    "    def forward_propagate(self, inputs):\n",
    "        \n",
    "        #for the first layer activations= inputs\n",
    "        activations= inputs\n",
    "        \n",
    "        for w in self.weights:\n",
    "            # calculate net inputs\n",
    "            net_inputs=np.dot(activations, w)\n",
    "            \n",
    "            # calculate the activations\n",
    "            activations= self.sigmoid(net_inputs)\n",
    "            \n",
    "        return activations\n",
    "    \n",
    "    def sigmoid(self, x):\n",
    "        return 1/(1+ np.exp(-x))\n",
    "        \n",
    "if __name__==\"__main__\": \n",
    "    \n",
    "    #instantialte multi layer perceptron\n",
    "    mlp= Multi_Layer_Perceptron()\n",
    "    \n",
    "    #Feed some inputs\n",
    "    inputs= np.random.rand(mlp.num_inputs)\n",
    "    \n",
    "    #Perform the forward propagation\n",
    "    outputs=mlp.forward_propagate(inputs)\n",
    "    \n",
    "    #print the output results\n",
    "    print(\"The inputs is: {}\".format(inputs)) \n",
    "    print(\"The outputs is: {}\".format(outputs))\n",
    "    \n",
    "    \n",
    "#The output varies each time we run this program because of random inputs and random weigts initialization"
   ]
  }
 ],
 "metadata": {
  "kernelspec": {
   "display_name": "Python 3",
   "language": "python",
   "name": "python3"
  },
  "language_info": {
   "codemirror_mode": {
    "name": "ipython",
    "version": 3
   },
   "file_extension": ".py",
   "mimetype": "text/x-python",
   "name": "python",
   "nbconvert_exporter": "python",
   "pygments_lexer": "ipython3",
   "version": "3.7.3"
  }
 },
 "nbformat": 4,
 "nbformat_minor": 2
}
