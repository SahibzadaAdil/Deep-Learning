{
 "cells": [
  {
   "cell_type": "code",
   "execution_count": 5,
   "metadata": {},
   "outputs": [
    {
     "name": "stdout",
     "output_type": "stream",
     "text": [
      "0.610639233949222\n"
     ]
    }
   ],
   "source": [
    "import math\n",
    "\n",
    "def segmoid(a):\n",
    "    y=1/(1+math.exp(-a))\n",
    "    return y\n",
    "\n",
    "def activate(inputs,weights):\n",
    "    #step 1: Calculate the net input\n",
    "    h=0\n",
    "    for x, w in zip(inputs, weights):\n",
    "        h+=x*w\n",
    "    #step 2: Apply activation\n",
    "    return segmoid(h)\n",
    "\n",
    "if __name__== \"__main__\":\n",
    "    #inputs x1, x2 and x3 respectively\n",
    "    inputs= [0.5,0.3,0.2]\n",
    "    #weights w1, w2 and w3 respectively\n",
    "    weights= [0.4,0.7,0.2]\n",
    "    output=activate(inputs,weights)\n",
    "    print(output)\n",
    "\n",
    "\n",
    "    \n",
    "    "
   ]
  },
  {
   "cell_type": "code",
   "execution_count": null,
   "metadata": {},
   "outputs": [],
   "source": []
  }
 ],
 "metadata": {
  "kernelspec": {
   "display_name": "Python 3",
   "language": "python",
   "name": "python3"
  },
  "language_info": {
   "codemirror_mode": {
    "name": "ipython",
    "version": 3
   },
   "file_extension": ".py",
   "mimetype": "text/x-python",
   "name": "python",
   "nbconvert_exporter": "python",
   "pygments_lexer": "ipython3",
   "version": "3.7.3"
  }
 },
 "nbformat": 4,
 "nbformat_minor": 2
}
